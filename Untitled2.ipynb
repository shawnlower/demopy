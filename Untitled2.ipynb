{
 "cells": [
  {
   "cell_type": "code",
   "execution_count": 1,
   "metadata": {},
   "outputs": [],
   "source": [
    "from itertools import permutations\n"
   ]
  },
  {
   "cell_type": "code",
   "execution_count": 2,
   "metadata": {},
   "outputs": [
    {
     "name": "stdout",
     "output_type": "stream",
     "text": [
      "Starting with 210 matches.\n",
      "Returning 96 matches.\n",
      "Starting with 96 matches.\n",
      "Returning 56 matches.\n",
      "Starting with 56 matches.\n",
      "Returning 8 matches.\n",
      "Starting with 8 matches.\n",
      "Returning 7 matches.\n",
      "Starting with 7 matches.\n",
      "Returning 3 matches.\n",
      "Ending with 3 matches: [(4, 6, 9), (6, 1, 9), (6, 7, 9)]\n"
     ]
    }
   ],
   "source": [
    "def test_1(perms, digits):\n",
    "    # One digit is right but in wrong place\n",
    "    print(\"Starting with {} matches.\".format(len(perms)))\n",
    "    remaining_perms = []\n",
    "    for perm in perms:\n",
    "        skip = False\n",
    "        match_count = 0\n",
    "        for num in digits:\n",
    "            if num in perm and digits.index(num) != perm.index(num):\n",
    "                match_count += 1\n",
    "        if match_count == 1:\n",
    "            remaining_perms.append(perm)\n",
    "    print(\"Returning {} matches.\".format(len(remaining_perms)))\n",
    "    return remaining_perms\n",
    "\n",
    "def test_2_one_in_place(perms, digits):\n",
    "    # One digit is right and in right place\n",
    "    print(\"Starting with {} matches.\".format(len(perms)))\n",
    "    remaining_perms = []\n",
    "    for perm in perms:\n",
    "        skip = False\n",
    "        match_count = 0\n",
    "        for num in digits:\n",
    "            if num in perm and digits.index(num) == perm.index(num):\n",
    "                match_count += 1\n",
    "            if match_count == 1:\n",
    "                remaining_perms.append(perm)\n",
    "    print(\"Returning {} matches.\".format(len(remaining_perms)))\n",
    "    return remaining_perms\n",
    "\n",
    "def test_3_two_correct(perms, match):\n",
    "    # Two digits correct but in wrong place\n",
    "    print(\"Starting with {} matches.\".format(len(perms)))\n",
    "    remaining_perms = []\n",
    "    for perm in perms:\n",
    "        found_count=0\n",
    "        for num in match:\n",
    "            if num in perm and perm.index(num) != match.index(num):\n",
    "                found_count += 1\n",
    "        if found_count == 2:\n",
    "            remaining_perms.append(perm)\n",
    "    print(\"Returning {} matches.\".format(len(remaining_perms)))\n",
    "    return remaining_perms\n",
    "\n",
    "def test_4_all_digits_wrong(perms, bad_digits):\n",
    "    print(\"Starting with {} matches.\".format(len(perms)))\n",
    "    for perm in perms:\n",
    "        for bad in bad_digits:\n",
    "            if bad in perm:\n",
    "                perms.remove(perm)\n",
    "    print(\"Returning {} matches.\".format(len(perms)))\n",
    "    return perms\n",
    "\n",
    "all_good_digits = [1,4,7,8,9,6,2]\n",
    "\n",
    "perms = list(permutations(all_good_digits, 3))\n",
    "\n",
    "perms = test_1(perms, [1,4,7])\n",
    "perms = test_2_one_in_place(perms, [1,8,9])\n",
    "perms = test_3_two_correct(perms, [9,6,4])\n",
    "perms = test_4_all_digits_wrong(perms, [5,2,3])\n",
    "perms = test_1(perms, [2,8,6])\n",
    "print(\"Ending with {} matches: {}\".format(len(perms), perms))"
   ]
  },
  {
   "cell_type": "code",
   "execution_count": null,
   "metadata": {},
   "outputs": [],
   "source": []
  }
 ],
 "metadata": {
  "kernelspec": {
   "display_name": "Python 3",
   "language": "python",
   "name": "python3"
  },
  "language_info": {
   "codemirror_mode": {
    "name": "ipython",
    "version": 3
   },
   "file_extension": ".py",
   "mimetype": "text/x-python",
   "name": "python",
   "nbconvert_exporter": "python",
   "pygments_lexer": "ipython3",
   "version": "3.7.6"
  }
 },
 "nbformat": 4,
 "nbformat_minor": 2
}
